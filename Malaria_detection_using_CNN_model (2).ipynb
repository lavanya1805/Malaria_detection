{
  "cells": [
    {
      "cell_type": "code",
      "execution_count": null,
      "metadata": {
        "id": "PYi8S839tqHs"
      },
      "outputs": [],
      "source": [
        "# import the libraries as shown below\n",
        "from tensorflow.keras.layers import Input, Lambda, Dense, Flatten,Conv2D\n",
        "from tensorflow.keras.models import Model\n",
        "from tensorflow.keras.applications.vgg19 import VGG19\n",
        "from tensorflow.keras.applications.resnet50 import preprocess_input\n",
        "from tensorflow.keras.preprocessing import image\n",
        "from tensorflow.keras.preprocessing.image import ImageDataGenerator,load_img\n",
        "from tensorflow.keras.models import Sequential\n",
        "import numpy as np\n",
        "from glob import glob\n",
        "import matplotlib.pyplot as plt"
      ]
    },
    {
      "cell_type": "code",
      "execution_count": null,
      "metadata": {
        "id": "s_jmCOnk8wjm"
      },
      "outputs": [],
      "source": [
        "# re-size all the images to this\n",
        "IMAGE_SIZE = [224, 224]\n",
        "\n",
        "train_path = '/content/drive/MyDrive/Dataset/Dataset/Train'\n",
        "valid_path = '/content/drive/MyDrive/Dataset/Dataset/Test'"
      ]
    },
    {
      "cell_type": "code",
      "execution_count": null,
      "metadata": {
        "id": "dSg2K4X0_RLg"
      },
      "outputs": [],
      "source": [
        "# Import the Vgg 19 library as shown below and add preprocessing layer to the front of VGG\n",
        "# Here we will be using imagenet weights\n",
        "\n",
        "mobilnet = VGG19(input_shape=IMAGE_SIZE + [3], weights='imagenet', include_top=False)\n",
        "#cut the first(image we feed) and last layer(classes)"
      ]
    },
    {
      "cell_type": "code",
      "execution_count": null,
      "metadata": {
        "colab": {
          "base_uri": "https://localhost:8080/"
        },
        "id": "XY4-RyCsPC5U",
        "outputId": "321efca4-e877-470b-d6df-002d43393eb1"
      },
      "outputs": [
        {
          "output_type": "stream",
          "name": "stdout",
          "text": [
            "Model: \"vgg19\"\n",
            "_________________________________________________________________\n",
            " Layer (type)                Output Shape              Param #   \n",
            "=================================================================\n",
            " input_1 (InputLayer)        [(None, 224, 224, 3)]     0         \n",
            "                                                                 \n",
            " block1_conv1 (Conv2D)       (None, 224, 224, 64)      1792      \n",
            "                                                                 \n",
            " block1_conv2 (Conv2D)       (None, 224, 224, 64)      36928     \n",
            "                                                                 \n",
            " block1_pool (MaxPooling2D)  (None, 112, 112, 64)      0         \n",
            "                                                                 \n",
            " block2_conv1 (Conv2D)       (None, 112, 112, 128)     73856     \n",
            "                                                                 \n",
            " block2_conv2 (Conv2D)       (None, 112, 112, 128)     147584    \n",
            "                                                                 \n",
            " block2_pool (MaxPooling2D)  (None, 56, 56, 128)       0         \n",
            "                                                                 \n",
            " block3_conv1 (Conv2D)       (None, 56, 56, 256)       295168    \n",
            "                                                                 \n",
            " block3_conv2 (Conv2D)       (None, 56, 56, 256)       590080    \n",
            "                                                                 \n",
            " block3_conv3 (Conv2D)       (None, 56, 56, 256)       590080    \n",
            "                                                                 \n",
            " block3_conv4 (Conv2D)       (None, 56, 56, 256)       590080    \n",
            "                                                                 \n",
            " block3_pool (MaxPooling2D)  (None, 28, 28, 256)       0         \n",
            "                                                                 \n",
            " block4_conv1 (Conv2D)       (None, 28, 28, 512)       1180160   \n",
            "                                                                 \n",
            " block4_conv2 (Conv2D)       (None, 28, 28, 512)       2359808   \n",
            "                                                                 \n",
            " block4_conv3 (Conv2D)       (None, 28, 28, 512)       2359808   \n",
            "                                                                 \n",
            " block4_conv4 (Conv2D)       (None, 28, 28, 512)       2359808   \n",
            "                                                                 \n",
            " block4_pool (MaxPooling2D)  (None, 14, 14, 512)       0         \n",
            "                                                                 \n",
            " block5_conv1 (Conv2D)       (None, 14, 14, 512)       2359808   \n",
            "                                                                 \n",
            " block5_conv2 (Conv2D)       (None, 14, 14, 512)       2359808   \n",
            "                                                                 \n",
            " block5_conv3 (Conv2D)       (None, 14, 14, 512)       2359808   \n",
            "                                                                 \n",
            " block5_conv4 (Conv2D)       (None, 14, 14, 512)       2359808   \n",
            "                                                                 \n",
            " block5_pool (MaxPooling2D)  (None, 7, 7, 512)         0         \n",
            "                                                                 \n",
            "=================================================================\n",
            "Total params: 20,024,384\n",
            "Trainable params: 20,024,384\n",
            "Non-trainable params: 0\n",
            "_________________________________________________________________\n"
          ]
        }
      ],
      "source": [
        "mobilnet.summary() "
      ]
    },
    {
      "cell_type": "code",
      "execution_count": null,
      "metadata": {
        "id": "mwBJi869AF5V"
      },
      "outputs": [],
      "source": [
        "# don't train existing weights\n",
        "for layer in mobilnet.layers:\n",
        "    layer.trainable = False #transfer learning so need to train all layer.need to train the last layer"
      ]
    },
    {
      "cell_type": "code",
      "execution_count": null,
      "metadata": {
        "id": "e1fsgvcrAJmE"
      },
      "outputs": [],
      "source": [
        "# useful for getting number of output classes\n",
        "folders = glob('/content/drive/MyDrive/Dataset/Dataset/Train')"
      ]
    },
    {
      "cell_type": "code",
      "execution_count": null,
      "metadata": {
        "colab": {
          "base_uri": "https://localhost:8080/"
        },
        "id": "8At5Dq0ePrEX",
        "outputId": "b252ad6b-f310-4900-c1cb-a668e486a8a8"
      },
      "outputs": [
        {
          "output_type": "execute_result",
          "data": {
            "text/plain": [
              "['/content/drive/MyDrive/Dataset/Dataset/Train']"
            ]
          },
          "metadata": {},
          "execution_count": 15
        }
      ],
      "source": [
        "folders"
      ]
    },
    {
      "cell_type": "code",
      "execution_count": null,
      "metadata": {
        "id": "owEMLlteQJf-"
      },
      "outputs": [],
      "source": [
        "# our layers - you can add more if you want\n",
        "x = Flatten()(mobilnet.output)"
      ]
    },
    {
      "cell_type": "code",
      "execution_count": null,
      "metadata": {
        "id": "3SITsav3QLQM"
      },
      "outputs": [],
      "source": [
        "#X=Dense(1000, activation='relu')(x)\n",
        "prediction = Dense(len(folders), activation='softmax')(x)\n",
        "#create a model object\n",
        "model = Model(inputs=mobilnet.input, outputs=prediction)"
      ]
    },
    {
      "cell_type": "code",
      "execution_count": null,
      "metadata": {
        "colab": {
          "base_uri": "https://localhost:8080/"
        },
        "id": "iwKJxibgQQAB",
        "outputId": "e6338058-aa8e-44b1-e704-5ddc07dadc28"
      },
      "outputs": [
        {
          "output_type": "stream",
          "name": "stdout",
          "text": [
            "Model: \"model\"\n",
            "_________________________________________________________________\n",
            " Layer (type)                Output Shape              Param #   \n",
            "=================================================================\n",
            " input_1 (InputLayer)        [(None, 224, 224, 3)]     0         \n",
            "                                                                 \n",
            " block1_conv1 (Conv2D)       (None, 224, 224, 64)      1792      \n",
            "                                                                 \n",
            " block1_conv2 (Conv2D)       (None, 224, 224, 64)      36928     \n",
            "                                                                 \n",
            " block1_pool (MaxPooling2D)  (None, 112, 112, 64)      0         \n",
            "                                                                 \n",
            " block2_conv1 (Conv2D)       (None, 112, 112, 128)     73856     \n",
            "                                                                 \n",
            " block2_conv2 (Conv2D)       (None, 112, 112, 128)     147584    \n",
            "                                                                 \n",
            " block2_pool (MaxPooling2D)  (None, 56, 56, 128)       0         \n",
            "                                                                 \n",
            " block3_conv1 (Conv2D)       (None, 56, 56, 256)       295168    \n",
            "                                                                 \n",
            " block3_conv2 (Conv2D)       (None, 56, 56, 256)       590080    \n",
            "                                                                 \n",
            " block3_conv3 (Conv2D)       (None, 56, 56, 256)       590080    \n",
            "                                                                 \n",
            " block3_conv4 (Conv2D)       (None, 56, 56, 256)       590080    \n",
            "                                                                 \n",
            " block3_pool (MaxPooling2D)  (None, 28, 28, 256)       0         \n",
            "                                                                 \n",
            " block4_conv1 (Conv2D)       (None, 28, 28, 512)       1180160   \n",
            "                                                                 \n",
            " block4_conv2 (Conv2D)       (None, 28, 28, 512)       2359808   \n",
            "                                                                 \n",
            " block4_conv3 (Conv2D)       (None, 28, 28, 512)       2359808   \n",
            "                                                                 \n",
            " block4_conv4 (Conv2D)       (None, 28, 28, 512)       2359808   \n",
            "                                                                 \n",
            " block4_pool (MaxPooling2D)  (None, 14, 14, 512)       0         \n",
            "                                                                 \n",
            " block5_conv1 (Conv2D)       (None, 14, 14, 512)       2359808   \n",
            "                                                                 \n",
            " block5_conv2 (Conv2D)       (None, 14, 14, 512)       2359808   \n",
            "                                                                 \n",
            " block5_conv3 (Conv2D)       (None, 14, 14, 512)       2359808   \n",
            "                                                                 \n",
            " block5_conv4 (Conv2D)       (None, 14, 14, 512)       2359808   \n",
            "                                                                 \n",
            " block5_pool (MaxPooling2D)  (None, 7, 7, 512)         0         \n",
            "                                                                 \n",
            " flatten (Flatten)           (None, 25088)             0         \n",
            "                                                                 \n",
            " dense (Dense)               (None, 1)                 25089     \n",
            "                                                                 \n",
            "=================================================================\n",
            "Total params: 20,049,473\n",
            "Trainable params: 25,089\n",
            "Non-trainable params: 20,024,384\n",
            "_________________________________________________________________\n"
          ]
        }
      ],
      "source": [
        "# view the structure of the model\n",
        "model.summary()"
      ]
    },
    {
      "cell_type": "markdown",
      "source": [],
      "metadata": {
        "id": "cBflhyg5fmdD"
      }
    },
    {
      "cell_type": "code",
      "execution_count": null,
      "metadata": {
        "id": "v_Yi4EShQZXf"
      },
      "outputs": [],
      "source": [
        "from tensorflow.keras.layers import MaxPooling2D"
      ]
    },
    {
      "cell_type": "code",
      "execution_count": null,
      "metadata": {
        "colab": {
          "base_uri": "https://localhost:8080/"
        },
        "id": "wPwSTlkTQbVW",
        "outputId": "1a754e71-419b-4dc5-9a6f-8a92e9e23080"
      },
      "outputs": [
        {
          "output_type": "stream",
          "name": "stdout",
          "text": [
            "Model: \"sequential\"\n",
            "_________________________________________________________________\n",
            " Layer (type)                Output Shape              Param #   \n",
            "=================================================================\n",
            " conv2d (Conv2D)             (None, 224, 224, 16)      208       \n",
            "                                                                 \n",
            " max_pooling2d (MaxPooling2D  (None, 112, 112, 16)     0         \n",
            " )                                                               \n",
            "                                                                 \n",
            " conv2d_1 (Conv2D)           (None, 112, 112, 32)      2080      \n",
            "                                                                 \n",
            " max_pooling2d_1 (MaxPooling  (None, 56, 56, 32)       0         \n",
            " 2D)                                                             \n",
            "                                                                 \n",
            " conv2d_2 (Conv2D)           (None, 56, 56, 64)        8256      \n",
            "                                                                 \n",
            " max_pooling2d_2 (MaxPooling  (None, 28, 28, 64)       0         \n",
            " 2D)                                                             \n",
            "                                                                 \n",
            " flatten_1 (Flatten)         (None, 50176)             0         \n",
            "                                                                 \n",
            " dense_1 (Dense)             (None, 500)               25088500  \n",
            "                                                                 \n",
            " dense_2 (Dense)             (None, 2)                 1002      \n",
            "                                                                 \n",
            "=================================================================\n",
            "Total params: 25,100,046\n",
            "Trainable params: 25,100,046\n",
            "Non-trainable params: 0\n",
            "_________________________________________________________________\n"
          ]
        }
      ],
      "source": [
        "### Create Model from scratch using CNN\n",
        "model=Sequential()\n",
        "model.add(Conv2D(filters=16,kernel_size=2,padding=\"same\",activation=\"relu\",input_shape=(224,224,3)))\n",
        "model.add(MaxPooling2D(pool_size=2))\n",
        "model.add(Conv2D(filters=32,kernel_size=2,padding=\"same\",activation =\"relu\"))\n",
        "model.add(MaxPooling2D(pool_size=2))\n",
        "model.add(Conv2D(filters=64,kernel_size=2,padding=\"same\",activation=\"relu\"))\n",
        "model.add(MaxPooling2D(pool_size=2))\n",
        "model.add(Flatten())\n",
        "model.add(Dense(500,activation=\"relu\"))\n",
        "model.add(Dense(2,activation=\"softmax\"))\n",
        "model.summary()"
      ]
    },
    {
      "cell_type": "code",
      "execution_count": null,
      "metadata": {
        "id": "eJZlQf_EQj38"
      },
      "outputs": [],
      "source": [
        "# tell the model what cost and optimization method to use\n",
        "model.compile(\n",
        "  loss='categorical_crossentropy',\n",
        "  optimizer='adam',\n",
        "  metrics=['accuracy']\n",
        ")"
      ]
    },
    {
      "cell_type": "code",
      "execution_count": null,
      "metadata": {
        "id": "jkQ-_FQOQmjg"
      },
      "outputs": [],
      "source": [
        "# Use the Image Data Generator to import the images from the dataset\n",
        "from tensorflow.keras.preprocessing.image import ImageDataGenerator\n",
        "\n",
        "train_datagen = ImageDataGenerator(rescale = 1./255,\n",
        "                                   shear_range = 0.2,\n",
        "                                   zoom_range = 0.2,\n",
        "                                   horizontal_flip = True)\n",
        "\n",
        "test_datagen = ImageDataGenerator(rescale = 1./255)"
      ]
    },
    {
      "cell_type": "code",
      "execution_count": null,
      "metadata": {
        "colab": {
          "base_uri": "https://localhost:8080/"
        },
        "id": "DVQaq90VQsoK",
        "outputId": "77f5dd98-650c-4b16-eb70-e71aad894194"
      },
      "outputs": [
        {
          "output_type": "stream",
          "name": "stdout",
          "text": [
            "Found 416 images belonging to 2 classes.\n"
          ]
        }
      ],
      "source": [
        "# Make sure you provide the same target size as initialied for the image size\n",
        "training_set = train_datagen.flow_from_directory('/content/drive/MyDrive/Dataset/Dataset/Train',\n",
        "                                                 target_size = (224, 224),\n",
        "                                                 batch_size = 32,\n",
        "                                                 class_mode = 'categorical')"
      ]
    },
    {
      "cell_type": "code",
      "execution_count": null,
      "metadata": {
        "colab": {
          "base_uri": "https://localhost:8080/"
        },
        "id": "GhSJOYczQ-at",
        "outputId": "f118d368-767b-4518-ced0-fa2cd117a5dd"
      },
      "outputs": [
        {
          "output_type": "execute_result",
          "data": {
            "text/plain": [
              "<keras.preprocessing.image.DirectoryIterator at 0x7f81500befd0>"
            ]
          },
          "metadata": {},
          "execution_count": 24
        }
      ],
      "source": [
        "training_set"
      ]
    },
    {
      "cell_type": "code",
      "execution_count": null,
      "metadata": {
        "colab": {
          "base_uri": "https://localhost:8080/"
        },
        "id": "qCKvZh97RAHq",
        "outputId": "00a142f9-dd4b-4b51-80e5-1feddb88df4c"
      },
      "outputs": [
        {
          "output_type": "stream",
          "name": "stdout",
          "text": [
            "Found 134 images belonging to 2 classes.\n"
          ]
        }
      ],
      "source": [
        "test_set = test_datagen.flow_from_directory('/content/drive/MyDrive/Dataset/Dataset/Test',\n",
        "                                            target_size = (224, 224),\n",
        "                                            batch_size = 32,\n",
        "                                            class_mode = 'categorical')"
      ]
    },
    {
      "cell_type": "code",
      "execution_count": null,
      "metadata": {
        "colab": {
          "base_uri": "https://localhost:8080/"
        },
        "id": "jeiHP2jyRNdk",
        "outputId": "414a2b28-c457-4341-8b19-202baa213fc7"
      },
      "outputs": [
        {
          "output_type": "stream",
          "name": "stderr",
          "text": [
            "<ipython-input-26-69229fe26ea3>:3: UserWarning: `Model.fit_generator` is deprecated and will be removed in a future version. Please use `Model.fit`, which supports generators.\n",
            "  r = model.fit_generator(\n"
          ]
        },
        {
          "output_type": "stream",
          "name": "stdout",
          "text": [
            "Epoch 1/50\n",
            "13/13 [==============================] - 119s 9s/step - loss: 1.9032 - accuracy: 0.5168 - val_loss: 0.7189 - val_accuracy: 0.3507\n",
            "Epoch 2/50\n",
            "13/13 [==============================] - 5s 382ms/step - loss: 0.7185 - accuracy: 0.5000 - val_loss: 0.6452 - val_accuracy: 0.6791\n",
            "Epoch 3/50\n",
            "13/13 [==============================] - 6s 470ms/step - loss: 0.6711 - accuracy: 0.5264 - val_loss: 0.6913 - val_accuracy: 0.5000\n",
            "Epoch 4/50\n",
            "13/13 [==============================] - 5s 388ms/step - loss: 0.6079 - accuracy: 0.6755 - val_loss: 0.7374 - val_accuracy: 0.4403\n",
            "Epoch 5/50\n",
            "13/13 [==============================] - 6s 477ms/step - loss: 0.5184 - accuracy: 0.7260 - val_loss: 0.8855 - val_accuracy: 0.4030\n",
            "Epoch 6/50\n",
            "13/13 [==============================] - 5s 394ms/step - loss: 0.4570 - accuracy: 0.7837 - val_loss: 1.0306 - val_accuracy: 0.3731\n",
            "Epoch 7/50\n",
            "13/13 [==============================] - 7s 550ms/step - loss: 0.4471 - accuracy: 0.8077 - val_loss: 0.7840 - val_accuracy: 0.4776\n",
            "Epoch 8/50\n",
            "13/13 [==============================] - 5s 388ms/step - loss: 0.3554 - accuracy: 0.8269 - val_loss: 1.1222 - val_accuracy: 0.4403\n",
            "Epoch 9/50\n",
            "13/13 [==============================] - 6s 479ms/step - loss: 0.3569 - accuracy: 0.8389 - val_loss: 0.9108 - val_accuracy: 0.4552\n",
            "Epoch 10/50\n",
            "13/13 [==============================] - 5s 391ms/step - loss: 0.2809 - accuracy: 0.8870 - val_loss: 0.5190 - val_accuracy: 0.6940\n",
            "Epoch 11/50\n",
            "13/13 [==============================] - 5s 415ms/step - loss: 0.2404 - accuracy: 0.9159 - val_loss: 0.5787 - val_accuracy: 0.6940\n",
            "Epoch 12/50\n",
            "13/13 [==============================] - 6s 444ms/step - loss: 0.2182 - accuracy: 0.9255 - val_loss: 0.4845 - val_accuracy: 0.7164\n",
            "Epoch 13/50\n",
            "13/13 [==============================] - 5s 385ms/step - loss: 0.2270 - accuracy: 0.9231 - val_loss: 0.4298 - val_accuracy: 0.7836\n",
            "Epoch 14/50\n",
            "13/13 [==============================] - 6s 488ms/step - loss: 0.1767 - accuracy: 0.9351 - val_loss: 0.4906 - val_accuracy: 0.7537\n",
            "Epoch 15/50\n",
            "13/13 [==============================] - 5s 392ms/step - loss: 0.1739 - accuracy: 0.9399 - val_loss: 0.4089 - val_accuracy: 0.8060\n",
            "Epoch 16/50\n",
            "13/13 [==============================] - 6s 473ms/step - loss: 0.1740 - accuracy: 0.9303 - val_loss: 0.3320 - val_accuracy: 0.8284\n",
            "Epoch 17/50\n",
            "13/13 [==============================] - 5s 384ms/step - loss: 0.1238 - accuracy: 0.9543 - val_loss: 0.2828 - val_accuracy: 0.8806\n",
            "Epoch 18/50\n",
            "13/13 [==============================] - 6s 480ms/step - loss: 0.2428 - accuracy: 0.9231 - val_loss: 0.5527 - val_accuracy: 0.7090\n",
            "Epoch 19/50\n",
            "13/13 [==============================] - 5s 386ms/step - loss: 0.1931 - accuracy: 0.9399 - val_loss: 0.3814 - val_accuracy: 0.7985\n",
            "Epoch 20/50\n",
            "13/13 [==============================] - 6s 479ms/step - loss: 0.1282 - accuracy: 0.9519 - val_loss: 0.3767 - val_accuracy: 0.7985\n",
            "Epoch 21/50\n",
            "13/13 [==============================] - 5s 392ms/step - loss: 0.1187 - accuracy: 0.9615 - val_loss: 0.3351 - val_accuracy: 0.8209\n",
            "Epoch 22/50\n",
            "13/13 [==============================] - 6s 480ms/step - loss: 0.1035 - accuracy: 0.9663 - val_loss: 0.2498 - val_accuracy: 0.8806\n",
            "Epoch 23/50\n",
            "13/13 [==============================] - 5s 387ms/step - loss: 0.0996 - accuracy: 0.9663 - val_loss: 0.3995 - val_accuracy: 0.8358\n",
            "Epoch 24/50\n",
            "13/13 [==============================] - 6s 481ms/step - loss: 0.0966 - accuracy: 0.9663 - val_loss: 0.2180 - val_accuracy: 0.9030\n",
            "Epoch 25/50\n",
            "13/13 [==============================] - 5s 385ms/step - loss: 0.0857 - accuracy: 0.9736 - val_loss: 0.2158 - val_accuracy: 0.9328\n",
            "Epoch 26/50\n",
            "13/13 [==============================] - 5s 388ms/step - loss: 0.1380 - accuracy: 0.9615 - val_loss: 0.3647 - val_accuracy: 0.8507\n",
            "Epoch 27/50\n",
            "13/13 [==============================] - 6s 456ms/step - loss: 0.1039 - accuracy: 0.9688 - val_loss: 0.2415 - val_accuracy: 0.8955\n",
            "Epoch 28/50\n",
            "13/13 [==============================] - 5s 386ms/step - loss: 0.0876 - accuracy: 0.9663 - val_loss: 0.3546 - val_accuracy: 0.8284\n",
            "Epoch 29/50\n",
            "13/13 [==============================] - 6s 484ms/step - loss: 0.0849 - accuracy: 0.9760 - val_loss: 0.2070 - val_accuracy: 0.8955\n",
            "Epoch 30/50\n",
            "13/13 [==============================] - 5s 387ms/step - loss: 0.0594 - accuracy: 0.9760 - val_loss: 0.1982 - val_accuracy: 0.9104\n",
            "Epoch 31/50\n",
            "13/13 [==============================] - 6s 433ms/step - loss: 0.0473 - accuracy: 0.9832 - val_loss: 0.2242 - val_accuracy: 0.8955\n",
            "Epoch 32/50\n",
            "13/13 [==============================] - 6s 419ms/step - loss: 0.0374 - accuracy: 0.9928 - val_loss: 0.2154 - val_accuracy: 0.9403\n",
            "Epoch 33/50\n",
            "13/13 [==============================] - 6s 484ms/step - loss: 0.0883 - accuracy: 0.9760 - val_loss: 0.2142 - val_accuracy: 0.9328\n",
            "Epoch 34/50\n",
            "13/13 [==============================] - 5s 388ms/step - loss: 0.0618 - accuracy: 0.9856 - val_loss: 0.2406 - val_accuracy: 0.9179\n",
            "Epoch 35/50\n",
            "13/13 [==============================] - 6s 485ms/step - loss: 0.0535 - accuracy: 0.9880 - val_loss: 0.3863 - val_accuracy: 0.8433\n",
            "Epoch 36/50\n",
            "13/13 [==============================] - 5s 389ms/step - loss: 0.0782 - accuracy: 0.9736 - val_loss: 0.1903 - val_accuracy: 0.9328\n",
            "Epoch 37/50\n",
            "13/13 [==============================] - 5s 408ms/step - loss: 0.0340 - accuracy: 0.9928 - val_loss: 0.4617 - val_accuracy: 0.8507\n",
            "Epoch 38/50\n",
            "13/13 [==============================] - 5s 380ms/step - loss: 0.0886 - accuracy: 0.9688 - val_loss: 0.2580 - val_accuracy: 0.8657\n",
            "Epoch 39/50\n",
            "13/13 [==============================] - 6s 474ms/step - loss: 0.0524 - accuracy: 0.9856 - val_loss: 0.1949 - val_accuracy: 0.9179\n",
            "Epoch 40/50\n",
            "13/13 [==============================] - 5s 381ms/step - loss: 0.0327 - accuracy: 0.9928 - val_loss: 0.2210 - val_accuracy: 0.9254\n",
            "Epoch 41/50\n",
            "13/13 [==============================] - 5s 418ms/step - loss: 0.0835 - accuracy: 0.9712 - val_loss: 0.3424 - val_accuracy: 0.8657\n",
            "Epoch 42/50\n",
            "13/13 [==============================] - 5s 389ms/step - loss: 0.0545 - accuracy: 0.9832 - val_loss: 0.2179 - val_accuracy: 0.9104\n",
            "Epoch 43/50\n",
            "13/13 [==============================] - 6s 477ms/step - loss: 0.0374 - accuracy: 0.9880 - val_loss: 0.1814 - val_accuracy: 0.9403\n",
            "Epoch 44/50\n",
            "13/13 [==============================] - 5s 386ms/step - loss: 0.0522 - accuracy: 0.9808 - val_loss: 0.3386 - val_accuracy: 0.8657\n",
            "Epoch 45/50\n",
            "13/13 [==============================] - 6s 453ms/step - loss: 0.0628 - accuracy: 0.9784 - val_loss: 0.2283 - val_accuracy: 0.9179\n",
            "Epoch 46/50\n",
            "13/13 [==============================] - 5s 389ms/step - loss: 0.0270 - accuracy: 0.9928 - val_loss: 0.2338 - val_accuracy: 0.9254\n",
            "Epoch 47/50\n",
            "13/13 [==============================] - 5s 384ms/step - loss: 0.0766 - accuracy: 0.9712 - val_loss: 0.2735 - val_accuracy: 0.8881\n",
            "Epoch 48/50\n",
            "13/13 [==============================] - 6s 482ms/step - loss: 0.0907 - accuracy: 0.9784 - val_loss: 0.3703 - val_accuracy: 0.8657\n",
            "Epoch 49/50\n",
            "13/13 [==============================] - 5s 392ms/step - loss: 0.0289 - accuracy: 0.9952 - val_loss: 0.1508 - val_accuracy: 0.9552\n",
            "Epoch 50/50\n",
            "13/13 [==============================] - 6s 496ms/step - loss: 0.0512 - accuracy: 0.9808 - val_loss: 0.6094 - val_accuracy: 0.8209\n"
          ]
        }
      ],
      "source": [
        "# fit the model\n",
        "# Run the cell. It will take some time to execute\n",
        "r = model.fit_generator(\n",
        "  training_set,\n",
        "  validation_data=test_set,\n",
        "  epochs=50,\n",
        "  steps_per_epoch=len(training_set),\n",
        "  validation_steps=len(test_set)\n",
        ")"
      ]
    },
    {
      "cell_type": "code",
      "execution_count": null,
      "metadata": {
        "colab": {
          "base_uri": "https://localhost:8080/",
          "height": 530
        },
        "id": "roYSTx7rUc3e",
        "outputId": "bba96375-a2b3-4ccc-9a53-efb4db38c335"
      },
      "outputs": [
        {
          "output_type": "display_data",
          "data": {
            "text/plain": [
              "<Figure size 432x288 with 1 Axes>"
            ],
            "image/png": "[encoded data removed]"
          },
          "metadata": {
            "needs_background": "light"
          }
        },
        {
          "output_type": "display_data",
          "data": {
            "text/plain": [
              "<Figure size 432x288 with 1 Axes>"
            ],
            "image/png": "[encoded data removed]"
          },
          "metadata": {
            "needs_background": "light"
          }
        },
        {
          "output_type": "display_data",
          "data": {
            "text/plain": [
              "<Figure size 432x288 with 0 Axes>"
            ]
          },
          "metadata": {}
        }
      ],
      "source": [
        "# plot the loss\n",
        "plt.plot(r.history['loss'], label='train loss')\n",
        "plt.plot(r.history['val_loss'], label='val loss')\n",
        "plt.legend()\n",
        "plt.show()\n",
        "plt.savefig('LossVal_loss')\n",
        "\n",
        "# plot the accuracy\n",
        "plt.plot(r.history['accuracy'], label='train acc')\n",
        "plt.plot(r.history['val_accuracy'], label='val acc')\n",
        "plt.legend()\n",
        "plt.show()\n",
        "plt.savefig('AccVal_acc')\n"
      ]
    },
    {
      "cell_type": "code",
      "execution_count": null,
      "metadata": {
        "id": "rY49sWLxUhSJ"
      },
      "outputs": [],
      "source": [
        "# save it as a h5 file\n",
        "\n",
        "\n",
        "from tensorflow.keras.models import load_model\n",
        "\n",
        "model.save('model_vgg19.h5')"
      ]
    },
    {
      "cell_type": "code",
      "execution_count": null,
      "metadata": {
        "id": "tSFrsjqGUmnx",
        "colab": {
          "base_uri": "https://localhost:8080/"
        },
        "outputId": "90f8a5e4-b243-4d40-f173-b05238dc35f9"
      },
      "outputs": [
        {
          "output_type": "stream",
          "name": "stdout",
          "text": [
            "5/5 [==============================] - 0s 62ms/step\n"
          ]
        }
      ],
      "source": [
        "y_pred = model.predict(test_set)"
      ]
    },
    {
      "cell_type": "code",
      "execution_count": null,
      "metadata": {
        "colab": {
          "base_uri": "https://localhost:8080/"
        },
        "id": "CVzVISJcUqbI",
        "outputId": "f900452d-ab53-4117-c2f9-f5eb1999a8c0"
      },
      "outputs": [
        {
          "output_type": "execute_result",
          "data": {
            "text/plain": [
              "array([[9.98084068e-01, 1.91594474e-03],\n",
              "       [9.99479115e-01, 5.20942907e-04],\n",
              "       [8.94412305e-03, 9.91055846e-01],\n",
              "       [1.90186221e-02, 9.80981350e-01],\n",
              "       [1.71782635e-02, 9.82821763e-01],\n",
              "       [1.94161162e-02, 9.80583906e-01],\n",
              "       [5.90324178e-02, 9.40967560e-01],\n",
              "       [9.81241167e-01, 1.87589079e-02],\n",
              "       [3.73633439e-03, 9.96263683e-01],\n",
              "       [9.95488107e-01, 4.51194262e-03],\n",
              "       [3.21389060e-04, 9.99678612e-01],\n",
              "       [2.66217836e-03, 9.97337759e-01],\n",
              "       [4.48118187e-02, 9.55188215e-01],\n",
              "       [8.80396552e-03, 9.91196036e-01],\n",
              "       [5.69362519e-03, 9.94306386e-01],\n",
              "       [9.99629974e-01, 3.69977904e-04],\n",
              "       [9.99999881e-01, 1.65145963e-07],\n",
              "       [4.35108040e-03, 9.95648921e-01],\n",
              "       [9.99620318e-01, 3.79619742e-04],\n",
              "       [9.99978065e-01, 2.19271278e-05],\n",
              "       [2.96324585e-03, 9.97036815e-01],\n",
              "       [9.99926448e-01, 7.35612412e-05],\n",
              "       [3.70168120e-01, 6.29831851e-01],\n",
              "       [4.77879867e-02, 9.52212036e-01],\n",
              "       [9.98024821e-01, 1.97525905e-03],\n",
              "       [9.99942183e-01, 5.78236577e-05],\n",
              "       [8.75518285e-03, 9.91244853e-01],\n",
              "       [1.34798381e-02, 9.86520171e-01],\n",
              "       [9.99999404e-01, 6.44343345e-07],\n",
              "       [9.97137904e-01, 2.86215474e-03],\n",
              "       [5.92410378e-03, 9.94075894e-01],\n",
              "       [9.99719083e-01, 2.80875916e-04],\n",
              "       [2.42373999e-02, 9.75762665e-01],\n",
              "       [2.43923310e-02, 9.75607634e-01],\n",
              "       [9.99999046e-01, 9.80963023e-07],\n",
              "       [1.00000000e+00, 2.52816506e-08],\n",
              "       [9.99812424e-01, 1.87612182e-04],\n",
              "       [9.99693513e-01, 3.06558009e-04],\n",
              "       [9.99994993e-01, 5.03757065e-06],\n",
              "       [2.12978572e-03, 9.97870207e-01],\n",
              "       [1.41488081e-02, 9.85851228e-01],\n",
              "       [4.36322484e-03, 9.95636761e-01],\n",
              "       [2.63165054e-03, 9.97368336e-01],\n",
              "       [9.95499313e-01, 4.50066524e-03],\n",
              "       [4.88808751e-02, 9.51119125e-01],\n",
              "       [9.99965191e-01, 3.48073590e-05],\n",
              "       [9.99038339e-01, 9.61701211e-04],\n",
              "       [9.87728834e-01, 1.22712078e-02],\n",
              "       [8.62560933e-04, 9.99137402e-01],\n",
              "       [4.70211171e-02, 9.52978849e-01],\n",
              "       [8.69128387e-03, 9.91308689e-01],\n",
              "       [1.54039422e-02, 9.84596074e-01],\n",
              "       [1.79338977e-02, 9.82066095e-01],\n",
              "       [9.99552548e-01, 4.47479455e-04],\n",
              "       [1.30797997e-01, 8.69202018e-01],\n",
              "       [4.70457919e-04, 9.99529600e-01],\n",
              "       [9.99972701e-01, 2.73485275e-05],\n",
              "       [7.16469511e-02, 9.28353012e-01],\n",
              "       [1.00000000e+00, 4.08540268e-09],\n",
              "       [9.12260056e-01, 8.77399296e-02],\n",
              "       [6.67120442e-02, 9.33287978e-01],\n",
              "       [9.99998927e-01, 1.07459402e-06],\n",
              "       [9.95754242e-01, 4.24579438e-03],\n",
              "       [1.00000000e+00, 3.61307428e-08],\n",
              "       [4.54644999e-03, 9.95453477e-01],\n",
              "       [2.51228988e-01, 7.48771071e-01],\n",
              "       [1.00000000e+00, 7.20782537e-13],\n",
              "       [9.99742925e-01, 2.57018430e-04],\n",
              "       [6.06907234e-02, 9.39309299e-01],\n",
              "       [9.99999881e-01, 1.06523800e-07],\n",
              "       [5.05167544e-02, 9.49483275e-01],\n",
              "       [9.98550713e-01, 1.44923688e-03],\n",
              "       [1.97436679e-02, 9.80256319e-01],\n",
              "       [9.40212607e-01, 5.97874299e-02],\n",
              "       [5.79700992e-02, 9.42029953e-01],\n",
              "       [5.68434643e-03, 9.94315684e-01],\n",
              "       [9.99974012e-01, 2.59362223e-05],\n",
              "       [9.99253809e-01, 7.46159814e-04],\n",
              "       [9.99208868e-01, 7.91168131e-04],\n",
              "       [1.88020011e-03, 9.98119771e-01],\n",
              "       [9.45865750e-01, 5.41342087e-02],\n",
              "       [9.99918818e-01, 8.11804712e-05],\n",
              "       [9.71651554e-01, 2.83483993e-02],\n",
              "       [7.45376339e-04, 9.99254644e-01],\n",
              "       [2.51194425e-02, 9.74880517e-01],\n",
              "       [2.29163235e-03, 9.97708321e-01],\n",
              "       [3.56745161e-03, 9.96432543e-01],\n",
              "       [9.26622391e-01, 7.33775720e-02],\n",
              "       [9.99761283e-01, 2.38685476e-04],\n",
              "       [8.14787269e-01, 1.85212776e-01],\n",
              "       [1.67704921e-03, 9.98322904e-01],\n",
              "       [9.98696029e-01, 1.30402273e-03],\n",
              "       [9.99928355e-01, 7.16572322e-05],\n",
              "       [8.06887269e-01, 1.93112701e-01],\n",
              "       [9.99443114e-01, 5.56871702e-04],\n",
              "       [5.26782461e-02, 9.47321773e-01],\n",
              "       [9.29105759e-01, 7.08941817e-02],\n",
              "       [9.43775713e-01, 5.62242456e-02],\n",
              "       [9.99997139e-01, 2.91703009e-06],\n",
              "       [8.89982820e-01, 1.10017121e-01],\n",
              "       [9.64923296e-03, 9.90350783e-01],\n",
              "       [1.00000000e+00, 1.08420022e-12],\n",
              "       [2.09198836e-02, 9.79080141e-01],\n",
              "       [1.00000000e+00, 4.79330398e-09],\n",
              "       [8.66425708e-02, 9.13357437e-01],\n",
              "       [9.99985337e-01, 1.46315087e-05],\n",
              "       [6.31889105e-02, 9.36811030e-01],\n",
              "       [3.83337378e-03, 9.96166646e-01],\n",
              "       [2.95659691e-01, 7.04340279e-01],\n",
              "       [9.99964952e-01, 3.50086957e-05],\n",
              "       [9.99676824e-01, 3.23234271e-04],\n",
              "       [9.59611032e-03, 9.90403891e-01],\n",
              "       [9.74841774e-01, 2.51582712e-02],\n",
              "       [1.02338509e-03, 9.98976588e-01],\n",
              "       [9.98289168e-01, 1.71086343e-03],\n",
              "       [3.64884967e-03, 9.96351123e-01],\n",
              "       [2.63077044e-03, 9.97369170e-01],\n",
              "       [9.96015966e-01, 3.98404663e-03],\n",
              "       [9.84577715e-01, 1.54222492e-02],\n",
              "       [9.87031877e-01, 1.29681155e-02],\n",
              "       [4.55971479e-01, 5.44028461e-01],\n",
              "       [9.99922514e-01, 7.75194785e-05],\n",
              "       [6.37248009e-02, 9.36275184e-01],\n",
              "       [9.98908997e-01, 1.09098211e-03],\n",
              "       [9.98384833e-01, 1.61517516e-03],\n",
              "       [2.25216076e-01, 7.74783909e-01],\n",
              "       [1.65122785e-02, 9.83487666e-01],\n",
              "       [9.54580069e-01, 4.54199947e-02],\n",
              "       [3.64156230e-03, 9.96358454e-01],\n",
              "       [1.67203345e-03, 9.98327911e-01],\n",
              "       [7.50661595e-03, 9.92493451e-01],\n",
              "       [9.99952197e-01, 4.77902613e-05],\n",
              "       [6.20063674e-03, 9.93799388e-01],\n",
              "       [7.83413067e-04, 9.99216557e-01]], dtype=float32)"
            ]
          },
          "metadata": {},
          "execution_count": 30
        }
      ],
      "source": [
        "y_pred"
      ]
    },
    {
      "cell_type": "code",
      "execution_count": null,
      "metadata": {
        "id": "NuesoJkxUvw7"
      },
      "outputs": [],
      "source": [
        "import numpy as np\n",
        "y_pred = np.argmax(y_pred, axis=1)"
      ]
    },
    {
      "cell_type": "code",
      "execution_count": null,
      "metadata": {
        "colab": {
          "base_uri": "https://localhost:8080/"
        },
        "id": "vBFFTPKqUzto",
        "outputId": "bb4c7b22-e614-411c-b779-10a3c115cab9"
      },
      "outputs": [
        {
          "output_type": "execute_result",
          "data": {
            "text/plain": [
              "array([0, 0, 1, 1, 1, 1, 1, 0, 1, 0, 1, 1, 1, 1, 1, 0, 0, 1, 0, 0, 1, 0,\n",
              "       1, 1, 0, 0, 1, 1, 0, 0, 1, 0, 1, 1, 0, 0, 0, 0, 0, 1, 1, 1, 1, 0,\n",
              "       1, 0, 0, 0, 1, 1, 1, 1, 1, 0, 1, 1, 0, 1, 0, 0, 1, 0, 0, 0, 1, 1,\n",
              "       0, 0, 1, 0, 1, 0, 1, 0, 1, 1, 0, 0, 0, 1, 0, 0, 0, 1, 1, 1, 1, 0,\n",
              "       0, 0, 1, 0, 0, 0, 0, 1, 0, 0, 0, 0, 1, 0, 1, 0, 1, 0, 1, 1, 1, 0,\n",
              "       0, 1, 0, 1, 0, 1, 1, 0, 0, 0, 1, 0, 1, 0, 0, 1, 1, 0, 1, 1, 1, 0,\n",
              "       1, 1])"
            ]
          },
          "metadata": {},
          "execution_count": 32
        }
      ],
      "source": [
        "y_pred"
      ]
    },
    {
      "cell_type": "code",
      "execution_count": null,
      "metadata": {
        "id": "yn46H9fGU3Oa"
      },
      "outputs": [],
      "source": [
        "from tensorflow.keras.models import load_model\n",
        "from tensorflow.keras.preprocessing import image"
      ]
    },
    {
      "cell_type": "code",
      "execution_count": null,
      "metadata": {
        "id": "QpZaBE-nat3f"
      },
      "outputs": [],
      "source": [
        "model=load_model('model_vgg19.h5')"
      ]
    },
    {
      "cell_type": "code",
      "execution_count": null,
      "metadata": {
        "id": "8L6Lw2IHwOF5"
      },
      "outputs": [],
      "source": [
        "img=image.load_img('/content/drive/MyDrive/Dataset/Dataset/Test/Parasite/C39P4thinF_original_IMG_20150622_105554_cell_18.png',target_size=(224,224))"
      ]
    },
    {
      "cell_type": "code",
      "execution_count": null,
      "metadata": {
        "colab": {
          "base_uri": "https://localhost:8080/"
        },
        "id": "UCxag5NJbP-A",
        "outputId": "c80b27c2-fc41-4747-e938-d26346ea5344"
      },
      "outputs": [
        {
          "output_type": "execute_result",
          "data": {
            "text/plain": [
              "array([[[0., 0., 0.],\n",
              "        [0., 0., 0.],\n",
              "        [0., 0., 0.],\n",
              "        ...,\n",
              "        [0., 0., 0.],\n",
              "        [0., 0., 0.],\n",
              "        [0., 0., 0.]],\n",
              "\n",
              "       [[0., 0., 0.],\n",
              "        [0., 0., 0.],\n",
              "        [0., 0., 0.],\n",
              "        ...,\n",
              "        [0., 0., 0.],\n",
              "        [0., 0., 0.],\n",
              "        [0., 0., 0.]],\n",
              "\n",
              "       [[0., 0., 0.],\n",
              "        [0., 0., 0.],\n",
              "        [0., 0., 0.],\n",
              "        ...,\n",
              "        [0., 0., 0.],\n",
              "        [0., 0., 0.],\n",
              "        [0., 0., 0.]],\n",
              "\n",
              "       ...,\n",
              "\n",
              "       [[0., 0., 0.],\n",
              "        [0., 0., 0.],\n",
              "        [0., 0., 0.],\n",
              "        ...,\n",
              "        [0., 0., 0.],\n",
              "        [0., 0., 0.],\n",
              "        [0., 0., 0.]],\n",
              "\n",
              "       [[0., 0., 0.],\n",
              "        [0., 0., 0.],\n",
              "        [0., 0., 0.],\n",
              "        ...,\n",
              "        [0., 0., 0.],\n",
              "        [0., 0., 0.],\n",
              "        [0., 0., 0.]],\n",
              "\n",
              "       [[0., 0., 0.],\n",
              "        [0., 0., 0.],\n",
              "        [0., 0., 0.],\n",
              "        ...,\n",
              "        [0., 0., 0.],\n",
              "        [0., 0., 0.],\n",
              "        [0., 0., 0.]]], dtype=float32)"
            ]
          },
          "metadata": {},
          "execution_count": 54
        }
      ],
      "source": [
        "x=image.img_to_array(img)\n",
        "x"
      ]
    },
    {
      "cell_type": "code",
      "execution_count": null,
      "metadata": {
        "colab": {
          "base_uri": "https://localhost:8080/"
        },
        "id": "2xqMfQzVbZ_r",
        "outputId": "90e1dbbe-b0e0-43a0-8aa9-3c335786ea21"
      },
      "outputs": [
        {
          "output_type": "execute_result",
          "data": {
            "text/plain": [
              "(224, 224, 3)"
            ]
          },
          "metadata": {},
          "execution_count": 55
        }
      ],
      "source": [
        "x.shape"
      ]
    },
    {
      "cell_type": "code",
      "execution_count": null,
      "metadata": {
        "id": "qRwT29s-bdGW"
      },
      "outputs": [],
      "source": [
        "x=x/255"
      ]
    },
    {
      "cell_type": "code",
      "execution_count": null,
      "metadata": {
        "id": "GUSbnc9qbfpk",
        "colab": {
          "base_uri": "https://localhost:8080/"
        },
        "outputId": "d28d1f26-e324-4244-d898-7e2d837b1d78"
      },
      "outputs": [
        {
          "output_type": "execute_result",
          "data": {
            "text/plain": [
              "(1, 224, 224, 3)"
            ]
          },
          "metadata": {},
          "execution_count": 57
        }
      ],
      "source": [
        "x=np.expand_dims(x,axis=0)\n",
        "img_data=preprocess_input(x)\n",
        "img_data.shape"
      ]
    },
    {
      "cell_type": "code",
      "execution_count": null,
      "metadata": {
        "colab": {
          "base_uri": "https://localhost:8080/"
        },
        "id": "nxOVwyIkbiVZ",
        "outputId": "65113092-22dd-42d9-b943-16b9f9617500"
      },
      "outputs": [
        {
          "output_type": "stream",
          "name": "stdout",
          "text": [
            "1/1 [==============================] - 0s 20ms/step\n"
          ]
        },
        {
          "output_type": "execute_result",
          "data": {
            "text/plain": [
              "array([[1., 0.]], dtype=float32)"
            ]
          },
          "metadata": {},
          "execution_count": 58
        }
      ],
      "source": [
        "model.predict(img_data)"
      ]
    },
    {
      "cell_type": "code",
      "execution_count": null,
      "metadata": {
        "id": "BYzKzLlkblyp",
        "colab": {
          "base_uri": "https://localhost:8080/"
        },
        "outputId": "cfd4b32a-c9d5-448a-fdfb-ea7aa7ade593"
      },
      "outputs": [
        {
          "output_type": "stream",
          "name": "stdout",
          "text": [
            "1/1 [==============================] - 0s 31ms/step\n"
          ]
        }
      ],
      "source": [
        "a=np.argmax(model.predict(img_data), axis=1)"
      ]
    },
    {
      "cell_type": "code",
      "execution_count": null,
      "metadata": {
        "colab": {
          "base_uri": "https://localhost:8080/"
        },
        "id": "WdpouzwlbnHT",
        "outputId": "26f8f40e-4c27-448a-a319-326cd8a2b0db"
      },
      "outputs": [
        {
          "output_type": "stream",
          "name": "stdout",
          "text": [
            "Infected\n"
          ]
        }
      ],
      "source": [
        "if(a==1):\n",
        "    print(\"Uninfected\")\n",
        "else:\n",
        "    print(\"Infected\")"
      ]
    }
  ],
  "metadata": {
    "accelerator": "GPU",
    "colab": {
      "provenance": []
    },
    "gpuClass": "standard",
    "kernelspec": {
      "display_name": "Python 3",
      "name": "python3"
    },
    "language_info": {
      "name": "python"
    }
  },
  "nbformat": 4,
  "nbformat_minor": 0
}